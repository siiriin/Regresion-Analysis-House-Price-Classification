{
  "cells": [
    {
      "cell_type": "markdown",
      "source": [
        "============================================================\n",
        "\n",
        "### REGRESION ANALYSIS HOUSE PRICE CLASSIFICATION\n",
        "\n",
        "============================================================\n",
        "\n",
        "Anggota Kelompok :\n",
        "\n",
        "1. David Hamonangan Sirait\n",
        "\n",
        "2. Rizky Yuda Pratama\n",
        "\n",
        "3. Siiriin Nisrinaa\n",
        "\n",
        "Author : FAUZAN AFIF LUTFIANSAH\n",
        "\n",
        "Kaggel : https://www.kaggle.com/code/fauzanafiflutfiansah/uas-regresion-analysis-house-price-clasifikasion\n",
        "\n",
        "\n"
      ],
      "metadata": {
        "id": "h3YFaKXdkpsn"
      },
      "id": "h3YFaKXdkpsn"
    },
    {
      "cell_type": "markdown",
      "id": "eb450ebd",
      "metadata": {
        "papermill": {
          "duration": 0.007892,
          "end_time": "2024-01-23T04:46:13.201095",
          "exception": false,
          "start_time": "2024-01-23T04:46:13.193203",
          "status": "completed"
        },
        "tags": [],
        "id": "eb450ebd"
      },
      "source": [
        "**OUR STEPS : **\n",
        "* Mengerjakan dan datasets (Kaggle.com)\n",
        "* Uji korelasi antar column (Regresion Analysis:Matrix Korelasi,Sperman ,Kendal,Pearson)\n",
        "* Data Visualization harga group,max-min\n",
        "* Model Klasifikasi (SKLearn Library)\n",
        "* Mengkonversi data + Reshape (Numpy)\n",
        "* Model Prediksi\n"
      ]
    },
    {
      "cell_type": "code",
      "execution_count": null,
      "id": "d7d3fa23",
      "metadata": {
        "_cell_guid": "b1076dfc-b9ad-4769-8c92-a6c4dae69d19",
        "_uuid": "8f2839f25d086af736a60e9eeb907d3b93b6e0e5",
        "execution": {
          "iopub.execute_input": "2024-01-23T04:46:13.219574Z",
          "iopub.status.busy": "2024-01-23T04:46:13.219116Z",
          "iopub.status.idle": "2024-01-23T04:46:15.511468Z",
          "shell.execute_reply": "2024-01-23T04:46:15.510476Z"
        },
        "papermill": {
          "duration": 2.305224,
          "end_time": "2024-01-23T04:46:15.514392",
          "exception": false,
          "start_time": "2024-01-23T04:46:13.209168",
          "status": "completed"
        },
        "tags": [],
        "id": "d7d3fa23"
      },
      "outputs": [],
      "source": [
        "# IMPORT LIBRARY YANG KITA PERLUKAN\n",
        "\n",
        "import pandas as pd\n",
        "import matplotlib.pyplot as plt\n",
        "import seaborn as sns\n",
        "import numpy as np\n",
        "from sklearn.model_selection import train_test_split\n",
        "from sklearn.linear_model import LinearRegression\n",
        "from sklearn.metrics import mean_absolute_error, mean_squared_error\n",
        "from sklearn import metrics"
      ]
    },
    {
      "cell_type": "code",
      "execution_count": null,
      "id": "eec8289f",
      "metadata": {
        "execution": {
          "iopub.execute_input": "2024-01-23T04:46:15.533708Z",
          "iopub.status.busy": "2024-01-23T04:46:15.532831Z",
          "iopub.status.idle": "2024-01-23T04:46:16.168408Z",
          "shell.execute_reply": "2024-01-23T04:46:16.167375Z"
        },
        "papermill": {
          "duration": 0.647762,
          "end_time": "2024-01-23T04:46:16.170625",
          "exception": false,
          "start_time": "2024-01-23T04:46:15.522863",
          "status": "completed"
        },
        "tags": [],
        "id": "eec8289f",
        "outputId": "6f4e91fa-9d76-4efe-e643-5c4310de93bf"
      },
      "outputs": [
        {
          "data": {
            "text/html": [
              "<div>\n",
              "<style scoped>\n",
              "    .dataframe tbody tr th:only-of-type {\n",
              "        vertical-align: middle;\n",
              "    }\n",
              "\n",
              "    .dataframe tbody tr th {\n",
              "        vertical-align: top;\n",
              "    }\n",
              "\n",
              "    .dataframe thead th {\n",
              "        text-align: right;\n",
              "    }\n",
              "</style>\n",
              "<table border=\"1\" class=\"dataframe\">\n",
              "  <thead>\n",
              "    <tr style=\"text-align: right;\">\n",
              "      <th></th>\n",
              "      <th>NO</th>\n",
              "      <th>NAMA RUMAH</th>\n",
              "      <th>HARGA</th>\n",
              "      <th>LB</th>\n",
              "      <th>LT</th>\n",
              "      <th>KT</th>\n",
              "      <th>KM</th>\n",
              "      <th>GRS</th>\n",
              "    </tr>\n",
              "  </thead>\n",
              "  <tbody>\n",
              "    <tr>\n",
              "      <th>0</th>\n",
              "      <td>1</td>\n",
              "      <td>Rumah Murah Hook Tebet Timur, Tebet, Jakarta S...</td>\n",
              "      <td>3800000000</td>\n",
              "      <td>220</td>\n",
              "      <td>220</td>\n",
              "      <td>3</td>\n",
              "      <td>3</td>\n",
              "      <td>0</td>\n",
              "    </tr>\n",
              "    <tr>\n",
              "      <th>1</th>\n",
              "      <td>2</td>\n",
              "      <td>Rumah Modern di Tebet dekat Stasiun, Tebet, Ja...</td>\n",
              "      <td>4600000000</td>\n",
              "      <td>180</td>\n",
              "      <td>137</td>\n",
              "      <td>4</td>\n",
              "      <td>3</td>\n",
              "      <td>2</td>\n",
              "    </tr>\n",
              "    <tr>\n",
              "      <th>2</th>\n",
              "      <td>3</td>\n",
              "      <td>Rumah Mewah 2 Lantai Hanya 3 Menit Ke Tebet, T...</td>\n",
              "      <td>3000000000</td>\n",
              "      <td>267</td>\n",
              "      <td>250</td>\n",
              "      <td>4</td>\n",
              "      <td>4</td>\n",
              "      <td>4</td>\n",
              "    </tr>\n",
              "    <tr>\n",
              "      <th>3</th>\n",
              "      <td>4</td>\n",
              "      <td>Rumah Baru Tebet, Tebet, Jakarta Selatan</td>\n",
              "      <td>430000000</td>\n",
              "      <td>40</td>\n",
              "      <td>25</td>\n",
              "      <td>2</td>\n",
              "      <td>2</td>\n",
              "      <td>0</td>\n",
              "    </tr>\n",
              "    <tr>\n",
              "      <th>4</th>\n",
              "      <td>5</td>\n",
              "      <td>Rumah Bagus Tebet komp Gudang Peluru lt 350m, ...</td>\n",
              "      <td>9000000000</td>\n",
              "      <td>400</td>\n",
              "      <td>355</td>\n",
              "      <td>6</td>\n",
              "      <td>5</td>\n",
              "      <td>3</td>\n",
              "    </tr>\n",
              "  </tbody>\n",
              "</table>\n",
              "</div>"
            ],
            "text/plain": [
              "   NO                                         NAMA RUMAH       HARGA   LB  \\\n",
              "0   1  Rumah Murah Hook Tebet Timur, Tebet, Jakarta S...  3800000000  220   \n",
              "1   2  Rumah Modern di Tebet dekat Stasiun, Tebet, Ja...  4600000000  180   \n",
              "2   3  Rumah Mewah 2 Lantai Hanya 3 Menit Ke Tebet, T...  3000000000  267   \n",
              "3   4           Rumah Baru Tebet, Tebet, Jakarta Selatan   430000000   40   \n",
              "4   5  Rumah Bagus Tebet komp Gudang Peluru lt 350m, ...  9000000000  400   \n",
              "\n",
              "    LT  KT  KM  GRS  \n",
              "0  220   3   3    0  \n",
              "1  137   4   3    2  \n",
              "2  250   4   4    4  \n",
              "3   25   2   2    0  \n",
              "4  355   6   5    3  "
            ]
          },
          "execution_count": 2,
          "metadata": {},
          "output_type": "execute_result"
        }
      ],
      "source": [
        "# MENGUBAH DADATSETS MENJADI DATA FRAME DAN MELIHAT 5 DATA TERATAS\n",
        "df = pd.read_excel(\"/kaggle/input/daftar-harga-rumah/DATA RUMAH.xlsx\")\n",
        "df.head()"
      ]
    },
    {
      "cell_type": "code",
      "execution_count": null,
      "id": "e62c42cc",
      "metadata": {
        "execution": {
          "iopub.execute_input": "2024-01-23T04:46:16.189615Z",
          "iopub.status.busy": "2024-01-23T04:46:16.188821Z",
          "iopub.status.idle": "2024-01-23T04:46:16.214260Z",
          "shell.execute_reply": "2024-01-23T04:46:16.213155Z"
        },
        "papermill": {
          "duration": 0.037395,
          "end_time": "2024-01-23T04:46:16.216464",
          "exception": false,
          "start_time": "2024-01-23T04:46:16.179069",
          "status": "completed"
        },
        "tags": [],
        "id": "e62c42cc",
        "outputId": "590995b7-ae49-43c3-d727-0a4d807319eb"
      },
      "outputs": [
        {
          "name": "stdout",
          "output_type": "stream",
          "text": [
            "<class 'pandas.core.frame.DataFrame'>\n",
            "RangeIndex: 1010 entries, 0 to 1009\n",
            "Data columns (total 8 columns):\n",
            " #   Column      Non-Null Count  Dtype \n",
            "---  ------      --------------  ----- \n",
            " 0   NO          1010 non-null   int64 \n",
            " 1   NAMA RUMAH  1010 non-null   object\n",
            " 2   HARGA       1010 non-null   int64 \n",
            " 3   LB          1010 non-null   int64 \n",
            " 4   LT          1010 non-null   int64 \n",
            " 5   KT          1010 non-null   int64 \n",
            " 6   KM          1010 non-null   int64 \n",
            " 7   GRS         1010 non-null   int64 \n",
            "dtypes: int64(7), object(1)\n",
            "memory usage: 63.2+ KB\n"
          ]
        }
      ],
      "source": [
        "# MELIHAT KARAKTERISTIK DAN STRUKTUR DATA YANG KITA GUNAKAN\n",
        "df.info()"
      ]
    },
    {
      "cell_type": "code",
      "execution_count": null,
      "id": "040ad8a1",
      "metadata": {
        "execution": {
          "iopub.execute_input": "2024-01-23T04:46:16.235665Z",
          "iopub.status.busy": "2024-01-23T04:46:16.235055Z",
          "iopub.status.idle": "2024-01-23T04:46:16.248890Z",
          "shell.execute_reply": "2024-01-23T04:46:16.247845Z"
        },
        "papermill": {
          "duration": 0.025946,
          "end_time": "2024-01-23T04:46:16.251200",
          "exception": false,
          "start_time": "2024-01-23T04:46:16.225254",
          "status": "completed"
        },
        "tags": [],
        "id": "040ad8a1",
        "outputId": "38b28fd6-aede-4aab-8512-e541af7246da"
      },
      "outputs": [
        {
          "data": {
            "text/html": [
              "<div>\n",
              "<style scoped>\n",
              "    .dataframe tbody tr th:only-of-type {\n",
              "        vertical-align: middle;\n",
              "    }\n",
              "\n",
              "    .dataframe tbody tr th {\n",
              "        vertical-align: top;\n",
              "    }\n",
              "\n",
              "    .dataframe thead th {\n",
              "        text-align: right;\n",
              "    }\n",
              "</style>\n",
              "<table border=\"1\" class=\"dataframe\">\n",
              "  <thead>\n",
              "    <tr style=\"text-align: right;\">\n",
              "      <th></th>\n",
              "      <th>NO</th>\n",
              "      <th>NAMA RUMAH</th>\n",
              "      <th>HARGA</th>\n",
              "      <th>LB</th>\n",
              "      <th>LT</th>\n",
              "      <th>KT</th>\n",
              "      <th>KM</th>\n",
              "      <th>GRS</th>\n",
              "      <th>Harga Rumah(JT)</th>\n",
              "    </tr>\n",
              "  </thead>\n",
              "  <tbody>\n",
              "    <tr>\n",
              "      <th>0</th>\n",
              "      <td>1</td>\n",
              "      <td>Rumah Murah Hook Tebet Timur, Tebet, Jakarta S...</td>\n",
              "      <td>3800000000</td>\n",
              "      <td>220</td>\n",
              "      <td>220</td>\n",
              "      <td>3</td>\n",
              "      <td>3</td>\n",
              "      <td>0</td>\n",
              "      <td>3800</td>\n",
              "    </tr>\n",
              "    <tr>\n",
              "      <th>1</th>\n",
              "      <td>2</td>\n",
              "      <td>Rumah Modern di Tebet dekat Stasiun, Tebet, Ja...</td>\n",
              "      <td>4600000000</td>\n",
              "      <td>180</td>\n",
              "      <td>137</td>\n",
              "      <td>4</td>\n",
              "      <td>3</td>\n",
              "      <td>2</td>\n",
              "      <td>4600</td>\n",
              "    </tr>\n",
              "    <tr>\n",
              "      <th>2</th>\n",
              "      <td>3</td>\n",
              "      <td>Rumah Mewah 2 Lantai Hanya 3 Menit Ke Tebet, T...</td>\n",
              "      <td>3000000000</td>\n",
              "      <td>267</td>\n",
              "      <td>250</td>\n",
              "      <td>4</td>\n",
              "      <td>4</td>\n",
              "      <td>4</td>\n",
              "      <td>3000</td>\n",
              "    </tr>\n",
              "    <tr>\n",
              "      <th>3</th>\n",
              "      <td>4</td>\n",
              "      <td>Rumah Baru Tebet, Tebet, Jakarta Selatan</td>\n",
              "      <td>430000000</td>\n",
              "      <td>40</td>\n",
              "      <td>25</td>\n",
              "      <td>2</td>\n",
              "      <td>2</td>\n",
              "      <td>0</td>\n",
              "      <td>430</td>\n",
              "    </tr>\n",
              "    <tr>\n",
              "      <th>4</th>\n",
              "      <td>5</td>\n",
              "      <td>Rumah Bagus Tebet komp Gudang Peluru lt 350m, ...</td>\n",
              "      <td>9000000000</td>\n",
              "      <td>400</td>\n",
              "      <td>355</td>\n",
              "      <td>6</td>\n",
              "      <td>5</td>\n",
              "      <td>3</td>\n",
              "      <td>9000</td>\n",
              "    </tr>\n",
              "  </tbody>\n",
              "</table>\n",
              "</div>"
            ],
            "text/plain": [
              "   NO                                         NAMA RUMAH       HARGA   LB  \\\n",
              "0   1  Rumah Murah Hook Tebet Timur, Tebet, Jakarta S...  3800000000  220   \n",
              "1   2  Rumah Modern di Tebet dekat Stasiun, Tebet, Ja...  4600000000  180   \n",
              "2   3  Rumah Mewah 2 Lantai Hanya 3 Menit Ke Tebet, T...  3000000000  267   \n",
              "3   4           Rumah Baru Tebet, Tebet, Jakarta Selatan   430000000   40   \n",
              "4   5  Rumah Bagus Tebet komp Gudang Peluru lt 350m, ...  9000000000  400   \n",
              "\n",
              "    LT  KT  KM  GRS  Harga Rumah(JT)  \n",
              "0  220   3   3    0             3800  \n",
              "1  137   4   3    2             4600  \n",
              "2  250   4   4    4             3000  \n",
              "3   25   2   2    0              430  \n",
              "4  355   6   5    3             9000  "
            ]
          },
          "execution_count": 4,
          "metadata": {},
          "output_type": "execute_result"
        }
      ],
      "source": [
        "#MENGKONVERSI DATA HARGA RUMAH\n",
        "df['Harga Rumah(JT)'] = df['HARGA']//1000000\n",
        "df.head()"
      ]
    },
    {
      "cell_type": "code",
      "execution_count": null,
      "id": "ab3d5aad",
      "metadata": {
        "execution": {
          "iopub.execute_input": "2024-01-23T04:46:16.270532Z",
          "iopub.status.busy": "2024-01-23T04:46:16.269957Z",
          "iopub.status.idle": "2024-01-23T04:46:16.287010Z",
          "shell.execute_reply": "2024-01-23T04:46:16.285958Z"
        },
        "papermill": {
          "duration": 0.029334,
          "end_time": "2024-01-23T04:46:16.289259",
          "exception": false,
          "start_time": "2024-01-23T04:46:16.259925",
          "status": "completed"
        },
        "tags": [],
        "id": "ab3d5aad",
        "outputId": "fd572fa1-ba2f-4f43-ff5a-7ff4c8afbdbb"
      },
      "outputs": [
        {
          "data": {
            "text/html": [
              "<div>\n",
              "<style scoped>\n",
              "    .dataframe tbody tr th:only-of-type {\n",
              "        vertical-align: middle;\n",
              "    }\n",
              "\n",
              "    .dataframe tbody tr th {\n",
              "        vertical-align: top;\n",
              "    }\n",
              "\n",
              "    .dataframe thead th {\n",
              "        text-align: right;\n",
              "    }\n",
              "</style>\n",
              "<table border=\"1\" class=\"dataframe\">\n",
              "  <thead>\n",
              "    <tr style=\"text-align: right;\">\n",
              "      <th></th>\n",
              "      <th>LB</th>\n",
              "      <th>LT</th>\n",
              "      <th>KT</th>\n",
              "      <th>KM</th>\n",
              "      <th>GRS</th>\n",
              "      <th>Harga Rumah(JT)</th>\n",
              "    </tr>\n",
              "  </thead>\n",
              "  <tbody>\n",
              "    <tr>\n",
              "      <th>0</th>\n",
              "      <td>220</td>\n",
              "      <td>220</td>\n",
              "      <td>3</td>\n",
              "      <td>3</td>\n",
              "      <td>0</td>\n",
              "      <td>3800</td>\n",
              "    </tr>\n",
              "    <tr>\n",
              "      <th>1</th>\n",
              "      <td>180</td>\n",
              "      <td>137</td>\n",
              "      <td>4</td>\n",
              "      <td>3</td>\n",
              "      <td>2</td>\n",
              "      <td>4600</td>\n",
              "    </tr>\n",
              "    <tr>\n",
              "      <th>2</th>\n",
              "      <td>267</td>\n",
              "      <td>250</td>\n",
              "      <td>4</td>\n",
              "      <td>4</td>\n",
              "      <td>4</td>\n",
              "      <td>3000</td>\n",
              "    </tr>\n",
              "    <tr>\n",
              "      <th>3</th>\n",
              "      <td>40</td>\n",
              "      <td>25</td>\n",
              "      <td>2</td>\n",
              "      <td>2</td>\n",
              "      <td>0</td>\n",
              "      <td>430</td>\n",
              "    </tr>\n",
              "    <tr>\n",
              "      <th>4</th>\n",
              "      <td>400</td>\n",
              "      <td>355</td>\n",
              "      <td>6</td>\n",
              "      <td>5</td>\n",
              "      <td>3</td>\n",
              "      <td>9000</td>\n",
              "    </tr>\n",
              "  </tbody>\n",
              "</table>\n",
              "</div>"
            ],
            "text/plain": [
              "    LB   LT  KT  KM  GRS  Harga Rumah(JT)\n",
              "0  220  220   3   3    0             3800\n",
              "1  180  137   4   3    2             4600\n",
              "2  267  250   4   4    4             3000\n",
              "3   40   25   2   2    0              430\n",
              "4  400  355   6   5    3             9000"
            ]
          },
          "execution_count": 5,
          "metadata": {},
          "output_type": "execute_result"
        }
      ],
      "source": [
        "# MENGHAPUS TABLE YANG TIDAK DI PERLUKAN\n",
        "df.drop(['NO', 'NAMA RUMAH','HARGA'], axis=1, inplace=True)\n",
        "df.head()"
      ]
    },
    {
      "cell_type": "code",
      "execution_count": null,
      "id": "07fa94c7",
      "metadata": {
        "execution": {
          "iopub.execute_input": "2024-01-23T04:46:16.309176Z",
          "iopub.status.busy": "2024-01-23T04:46:16.308545Z",
          "iopub.status.idle": "2024-01-23T04:46:18.455539Z",
          "shell.execute_reply": "2024-01-23T04:46:18.454709Z"
        },
        "papermill": {
          "duration": 2.160883,
          "end_time": "2024-01-23T04:46:18.459141",
          "exception": false,
          "start_time": "2024-01-23T04:46:16.298258",
          "status": "completed"
        },
        "tags": [],
        "id": "07fa94c7",
        "outputId": "e22e8afa-6a89-484a-8337-a90ec901d102"
      },
      "outputs": [
        {
          "data": {
            "text/plain": [
              "<Axes: xlabel='GRS', ylabel='Harga Rumah(JT)'>"
            ]
          },
          "execution_count": 6,
          "metadata": {},
          "output_type": "execute_result"
        },
        {
          "data": {
            "image/png": "[encoded data removed]",
            "text/plain": [
              "<Figure size 1500x600 with 6 Axes>"
            ]
          },
          "metadata": {},
          "output_type": "display_data"
        }
      ],
      "source": [
        "# VISUALISASI HUBUNAGN LINEAR PADA SETIAP LABEL\n",
        "fig, axs = plt.subplots(ncols=3, nrows=2, figsize=(15, 6), dpi=100)\n",
        "sns.set_style(\"ticks\")\n",
        "sns.regplot(data=df, x=\"LT\", y=\"Harga Rumah(JT)\", ax=axs[0][0])\n",
        "sns.regplot(data=df, x=\"LB\", y=\"Harga Rumah(JT)\", ax=axs[0][1])\n",
        "sns.regplot(data=df, x=\"KT\", y=\"Harga Rumah(JT)\", ax=axs[0][2])\n",
        "sns.regplot(data=df, x=\"KM\", y=\"Harga Rumah(JT)\", ax=axs[1][0])\n",
        "sns.regplot(data=df, x=\"GRS\", y=\"Harga Rumah(JT)\", ax=axs[1][1])"
      ]
    },
    {
      "cell_type": "code",
      "execution_count": null,
      "id": "12237fa0",
      "metadata": {
        "execution": {
          "iopub.execute_input": "2024-01-23T04:46:18.484316Z",
          "iopub.status.busy": "2024-01-23T04:46:18.483213Z",
          "iopub.status.idle": "2024-01-23T04:46:18.594881Z",
          "shell.execute_reply": "2024-01-23T04:46:18.593956Z"
        },
        "papermill": {
          "duration": 0.12677,
          "end_time": "2024-01-23T04:46:18.597331",
          "exception": false,
          "start_time": "2024-01-23T04:46:18.470561",
          "status": "completed"
        },
        "tags": [],
        "id": "12237fa0",
        "outputId": "c64d33fe-e28c-429e-eeaf-65dcc7d163a0"
      },
      "outputs": [
        {
          "data": {
            "text/html": [
              "<style type=\"text/css\">\n",
              "#T_28e7a_row0_col0, #T_28e7a_row1_col1, #T_28e7a_row2_col2, #T_28e7a_row3_col3, #T_28e7a_row4_col4, #T_28e7a_row5_col5 {\n",
              "  background-color: #023858;\n",
              "  color: #f1f1f1;\n",
              "}\n",
              "#T_28e7a_row0_col1 {\n",
              "  background-color: #4e9ac6;\n",
              "  color: #f1f1f1;\n",
              "}\n",
              "#T_28e7a_row0_col2 {\n",
              "  background-color: #d5d5e8;\n",
              "  color: #000000;\n",
              "}\n",
              "#T_28e7a_row0_col3, #T_28e7a_row1_col4, #T_28e7a_row5_col4 {\n",
              "  background-color: #c5cce3;\n",
              "  color: #000000;\n",
              "}\n",
              "#T_28e7a_row0_col4 {\n",
              "  background-color: #c1cae2;\n",
              "  color: #000000;\n",
              "}\n",
              "#T_28e7a_row0_col5 {\n",
              "  background-color: #358fc0;\n",
              "  color: #f1f1f1;\n",
              "}\n",
              "#T_28e7a_row1_col0 {\n",
              "  background-color: #63a2cb;\n",
              "  color: #f1f1f1;\n",
              "}\n",
              "#T_28e7a_row1_col2 {\n",
              "  background-color: #dbdaeb;\n",
              "  color: #000000;\n",
              "}\n",
              "#T_28e7a_row1_col3 {\n",
              "  background-color: #f5eff6;\n",
              "  color: #000000;\n",
              "}\n",
              "#T_28e7a_row1_col5 {\n",
              "  background-color: #1278b4;\n",
              "  color: #f1f1f1;\n",
              "}\n",
              "#T_28e7a_row2_col0, #T_28e7a_row2_col4, #T_28e7a_row2_col5, #T_28e7a_row3_col1, #T_28e7a_row4_col2, #T_28e7a_row4_col3 {\n",
              "  background-color: #fff7fb;\n",
              "  color: #000000;\n",
              "}\n",
              "#T_28e7a_row2_col1, #T_28e7a_row5_col2 {\n",
              "  background-color: #f6eff7;\n",
              "  color: #000000;\n",
              "}\n",
              "#T_28e7a_row2_col3 {\n",
              "  background-color: #76aad0;\n",
              "  color: #f1f1f1;\n",
              "}\n",
              "#T_28e7a_row3_col0 {\n",
              "  background-color: #e6e2ef;\n",
              "  color: #000000;\n",
              "}\n",
              "#T_28e7a_row3_col2 {\n",
              "  background-color: #60a1ca;\n",
              "  color: #f1f1f1;\n",
              "}\n",
              "#T_28e7a_row3_col4, #T_28e7a_row5_col3 {\n",
              "  background-color: #f1ebf5;\n",
              "  color: #000000;\n",
              "}\n",
              "#T_28e7a_row3_col5 {\n",
              "  background-color: #ede8f3;\n",
              "  color: #000000;\n",
              "}\n",
              "#T_28e7a_row4_col0 {\n",
              "  background-color: #f2ecf5;\n",
              "  color: #000000;\n",
              "}\n",
              "#T_28e7a_row4_col1 {\n",
              "  background-color: #e5e1ef;\n",
              "  color: #000000;\n",
              "}\n",
              "#T_28e7a_row4_col5 {\n",
              "  background-color: #d2d3e7;\n",
              "  color: #000000;\n",
              "}\n",
              "#T_28e7a_row5_col0 {\n",
              "  background-color: #5ea0ca;\n",
              "  color: #f1f1f1;\n",
              "}\n",
              "#T_28e7a_row5_col1 {\n",
              "  background-color: #1c7fb8;\n",
              "  color: #f1f1f1;\n",
              "}\n",
              "</style>\n",
              "<table id=\"T_28e7a\">\n",
              "  <thead>\n",
              "    <tr>\n",
              "      <th class=\"blank level0\" >&nbsp;</th>\n",
              "      <th id=\"T_28e7a_level0_col0\" class=\"col_heading level0 col0\" >LB</th>\n",
              "      <th id=\"T_28e7a_level0_col1\" class=\"col_heading level0 col1\" >LT</th>\n",
              "      <th id=\"T_28e7a_level0_col2\" class=\"col_heading level0 col2\" >KT</th>\n",
              "      <th id=\"T_28e7a_level0_col3\" class=\"col_heading level0 col3\" >KM</th>\n",
              "      <th id=\"T_28e7a_level0_col4\" class=\"col_heading level0 col4\" >GRS</th>\n",
              "      <th id=\"T_28e7a_level0_col5\" class=\"col_heading level0 col5\" >Harga Rumah(JT)</th>\n",
              "    </tr>\n",
              "  </thead>\n",
              "  <tbody>\n",
              "    <tr>\n",
              "      <th id=\"T_28e7a_level0_row0\" class=\"row_heading level0 row0\" >LB</th>\n",
              "      <td id=\"T_28e7a_row0_col0\" class=\"data row0 col0\" >1.0</td>\n",
              "      <td id=\"T_28e7a_row0_col1\" class=\"data row0 col1\" >0.7</td>\n",
              "      <td id=\"T_28e7a_row0_col2\" class=\"data row0 col2\" >0.4</td>\n",
              "      <td id=\"T_28e7a_row0_col3\" class=\"data row0 col3\" >0.5</td>\n",
              "      <td id=\"T_28e7a_row0_col4\" class=\"data row0 col4\" >0.5</td>\n",
              "      <td id=\"T_28e7a_row0_col5\" class=\"data row0 col5\" >0.7</td>\n",
              "    </tr>\n",
              "    <tr>\n",
              "      <th id=\"T_28e7a_level0_row1\" class=\"row_heading level0 row1\" >LT</th>\n",
              "      <td id=\"T_28e7a_row1_col0\" class=\"data row1 col0\" >0.7</td>\n",
              "      <td id=\"T_28e7a_row1_col1\" class=\"data row1 col1\" >1.0</td>\n",
              "      <td id=\"T_28e7a_row1_col2\" class=\"data row1 col2\" >0.4</td>\n",
              "      <td id=\"T_28e7a_row1_col3\" class=\"data row1 col3\" >0.4</td>\n",
              "      <td id=\"T_28e7a_row1_col4\" class=\"data row1 col4\" >0.5</td>\n",
              "      <td id=\"T_28e7a_row1_col5\" class=\"data row1 col5\" >0.8</td>\n",
              "    </tr>\n",
              "    <tr>\n",
              "      <th id=\"T_28e7a_level0_row2\" class=\"row_heading level0 row2\" >KT</th>\n",
              "      <td id=\"T_28e7a_row2_col0\" class=\"data row2 col0\" >0.4</td>\n",
              "      <td id=\"T_28e7a_row2_col1\" class=\"data row2 col1\" >0.4</td>\n",
              "      <td id=\"T_28e7a_row2_col2\" class=\"data row2 col2\" >1.0</td>\n",
              "      <td id=\"T_28e7a_row2_col3\" class=\"data row2 col3\" >0.7</td>\n",
              "      <td id=\"T_28e7a_row2_col4\" class=\"data row2 col4\" >0.3</td>\n",
              "      <td id=\"T_28e7a_row2_col5\" class=\"data row2 col5\" >0.3</td>\n",
              "    </tr>\n",
              "    <tr>\n",
              "      <th id=\"T_28e7a_level0_row3\" class=\"row_heading level0 row3\" >KM</th>\n",
              "      <td id=\"T_28e7a_row3_col0\" class=\"data row3 col0\" >0.5</td>\n",
              "      <td id=\"T_28e7a_row3_col1\" class=\"data row3 col1\" >0.4</td>\n",
              "      <td id=\"T_28e7a_row3_col2\" class=\"data row3 col2\" >0.7</td>\n",
              "      <td id=\"T_28e7a_row3_col3\" class=\"data row3 col3\" >1.0</td>\n",
              "      <td id=\"T_28e7a_row3_col4\" class=\"data row3 col4\" >0.3</td>\n",
              "      <td id=\"T_28e7a_row3_col5\" class=\"data row3 col5\" >0.4</td>\n",
              "    </tr>\n",
              "    <tr>\n",
              "      <th id=\"T_28e7a_level0_row4\" class=\"row_heading level0 row4\" >GRS</th>\n",
              "      <td id=\"T_28e7a_row4_col0\" class=\"data row4 col0\" >0.5</td>\n",
              "      <td id=\"T_28e7a_row4_col1\" class=\"data row4 col1\" >0.5</td>\n",
              "      <td id=\"T_28e7a_row4_col2\" class=\"data row4 col2\" >0.3</td>\n",
              "      <td id=\"T_28e7a_row4_col3\" class=\"data row4 col3\" >0.3</td>\n",
              "      <td id=\"T_28e7a_row4_col4\" class=\"data row4 col4\" >1.0</td>\n",
              "      <td id=\"T_28e7a_row4_col5\" class=\"data row4 col5\" >0.5</td>\n",
              "    </tr>\n",
              "    <tr>\n",
              "      <th id=\"T_28e7a_level0_row5\" class=\"row_heading level0 row5\" >Harga Rumah(JT)</th>\n",
              "      <td id=\"T_28e7a_row5_col0\" class=\"data row5 col0\" >0.7</td>\n",
              "      <td id=\"T_28e7a_row5_col1\" class=\"data row5 col1\" >0.8</td>\n",
              "      <td id=\"T_28e7a_row5_col2\" class=\"data row5 col2\" >0.3</td>\n",
              "      <td id=\"T_28e7a_row5_col3\" class=\"data row5 col3\" >0.4</td>\n",
              "      <td id=\"T_28e7a_row5_col4\" class=\"data row5 col4\" >0.5</td>\n",
              "      <td id=\"T_28e7a_row5_col5\" class=\"data row5 col5\" >1.0</td>\n",
              "    </tr>\n",
              "  </tbody>\n",
              "</table>\n"
            ],
            "text/plain": [
              "<pandas.io.formats.style.Styler at 0x7d208c5d0bb0>"
            ]
          },
          "execution_count": 7,
          "metadata": {},
          "output_type": "execute_result"
        }
      ],
      "source": [
        "# MEMBUAT TABLE MATRIX KORELASI\n",
        "df.corr().style.background_gradient().format(\"{:.1f}\")\n"
      ]
    },
    {
      "cell_type": "code",
      "execution_count": null,
      "id": "a1fb5b13",
      "metadata": {
        "execution": {
          "iopub.execute_input": "2024-01-23T04:46:18.622701Z",
          "iopub.status.busy": "2024-01-23T04:46:18.622133Z",
          "iopub.status.idle": "2024-01-23T04:46:18.652185Z",
          "shell.execute_reply": "2024-01-23T04:46:18.650955Z"
        },
        "papermill": {
          "duration": 0.046478,
          "end_time": "2024-01-23T04:46:18.655432",
          "exception": false,
          "start_time": "2024-01-23T04:46:18.608954",
          "status": "completed"
        },
        "scrolled": true,
        "tags": [],
        "id": "a1fb5b13",
        "outputId": "eda9c54c-cc61-4011-8251-2a580a172684"
      },
      "outputs": [
        {
          "name": "stdout",
          "output_type": "stream",
          "text": [
            "           item   pearson   kendall  spearman\n",
            "0   HARGA vs KT  0.323320  0.362457  0.477077\n",
            "1   HARGA vs KM  0.323320  0.424793  0.547344\n",
            "2  HARGA vs GRS  0.484892  0.381156  0.476176\n"
          ]
        }
      ],
      "source": [
        "# UJI KORELASI KT.KM,GRS DENGAN 3 METODHE\n",
        "harga_KT = df[[\"Harga Rumah(JT)\", 'KT']]\n",
        "harga_KM = df[[\"Harga Rumah(JT)\",\"KM\"]]\n",
        "harga_GRS = df[[\"Harga Rumah(JT)\",\"GRS\"]]\n",
        "\n",
        "# Pearson method\n",
        "pearson_KT_harga= harga_KT.corr(method='pearson')['Harga Rumah(JT)']['KT']\n",
        "pearson_KM_harga = harga_KM.corr(method='pearson')['Harga Rumah(JT)']['KM']\n",
        "pearson_GRS_harga = harga_GRS.corr(method='pearson')['Harga Rumah(JT)']['GRS']\n",
        "\n",
        "# Kendall method\n",
        "kedall_KT_harga = harga_KT.corr(method='kendall')['Harga Rumah(JT)']['KT']\n",
        "kendall_KM_harga = harga_KM.corr(method='kendall')['Harga Rumah(JT)']['KM']\n",
        "kendall_GRS_harga = harga_GRS.corr(method='kendall')['Harga Rumah(JT)']['GRS']\n",
        "\n",
        "# Spearman method\n",
        "spearman_KT_harga = harga_KT.corr(method='spearman')['Harga Rumah(JT)']['KT']\n",
        "spearman_KM_harga = harga_KM.corr(method='spearman')['Harga Rumah(JT)']['KM']\n",
        "spearman_GRS_harga = harga_GRS.corr(method='spearman')['Harga Rumah(JT)']['GRS']\n",
        "\n",
        "hasil_korelasi = pd.DataFrame({\n",
        "    'item': ['HARGA vs KT', 'HARGA vs KM', 'HARGA vs GRS'],\n",
        "    'pearson': [pearson_KT_harga, pearson_KT_harga, pearson_GRS_harga],\n",
        "    'kendall': [kedall_KT_harga, kendall_KM_harga, kendall_GRS_harga],\n",
        "    'spearman': [spearman_KT_harga, spearman_KM_harga, spearman_GRS_harga],\n",
        "})\n",
        "\n",
        "print(hasil_korelasi)"
      ]
    },
    {
      "cell_type": "code",
      "execution_count": null,
      "id": "71edfef0",
      "metadata": {
        "execution": {
          "iopub.execute_input": "2024-01-23T04:46:18.681196Z",
          "iopub.status.busy": "2024-01-23T04:46:18.680255Z",
          "iopub.status.idle": "2024-01-23T04:46:18.700156Z",
          "shell.execute_reply": "2024-01-23T04:46:18.698715Z"
        },
        "papermill": {
          "duration": 0.035258,
          "end_time": "2024-01-23T04:46:18.702453",
          "exception": false,
          "start_time": "2024-01-23T04:46:18.667195",
          "status": "completed"
        },
        "tags": [],
        "id": "71edfef0",
        "outputId": "fa8bcc3b-d8f3-4626-f195-2c05970cee47"
      },
      "outputs": [
        {
          "name": "stdout",
          "output_type": "stream",
          "text": [
            "          item   pearson   kendall  spearman\n",
            "0  HARGA vs LB  0.747083  0.631357  0.808937\n",
            "1  HARGA vs LT  0.809617  0.664847  0.843240\n"
          ]
        }
      ],
      "source": [
        "#UJI KORELASI LB, LT 3 METODHE\n",
        "harga_LB = df[[\"Harga Rumah(JT)\", 'LB']]\n",
        "harga_LT = df[[\"Harga Rumah(JT)\",\"LT\"]]\n",
        "\n",
        "# Pearson method\n",
        "pearson_LB_harga= harga_LB.corr(method='pearson')['Harga Rumah(JT)']['LB']\n",
        "pearson_LT_harga = harga_LT.corr(method='pearson')['Harga Rumah(JT)']['LT']\n",
        "\n",
        "# Kendall method\n",
        "kedall_LB_harga = harga_LB.corr(method='kendall')['Harga Rumah(JT)']['LB']\n",
        "kendall_LT_harga = harga_LT.corr(method='kendall')['Harga Rumah(JT)']['LT']\n",
        "\n",
        "# Spearman method\n",
        "spearman_LB_harga = harga_LB.corr(method='spearman')['Harga Rumah(JT)']['LB']\n",
        "spearman_LT_harga = harga_LT.corr(method='spearman')['Harga Rumah(JT)']['LT']\n",
        "\n",
        "hasil_korelasi = pd.DataFrame({\n",
        "    'item': ['HARGA vs LB', 'HARGA vs LT'],\n",
        "    'pearson': [pearson_LB_harga, pearson_LT_harga],\n",
        "    'kendall': [kedall_LB_harga, kendall_LT_harga],\n",
        "    'spearman': [spearman_LB_harga, spearman_LT_harga],\n",
        "})\n",
        "\n",
        "print(hasil_korelasi)"
      ]
    },
    {
      "cell_type": "code",
      "execution_count": null,
      "id": "dc2d4252",
      "metadata": {
        "execution": {
          "iopub.execute_input": "2024-01-23T04:46:18.727268Z",
          "iopub.status.busy": "2024-01-23T04:46:18.726898Z",
          "iopub.status.idle": "2024-01-23T04:46:18.732414Z",
          "shell.execute_reply": "2024-01-23T04:46:18.731686Z"
        },
        "papermill": {
          "duration": 0.020303,
          "end_time": "2024-01-23T04:46:18.734443",
          "exception": false,
          "start_time": "2024-01-23T04:46:18.714140",
          "status": "completed"
        },
        "tags": [],
        "id": "dc2d4252"
      },
      "outputs": [],
      "source": [
        "#FUNGSION PERCABANGAN HARGA\n",
        "def group_data(price):\n",
        "    if(price <= q[0.25]):\n",
        "        return 'Harga Rendah'\n",
        "    elif(price > q[0.25] and price  <= q[0.50]):\n",
        "        return 'Harga Menegah'\n",
        "    elif(price > q[0.50]):\n",
        "        return 'Harga Tinggi'\n",
        "    else:\n",
        "        return '-'"
      ]
    },
    {
      "cell_type": "code",
      "execution_count": null,
      "id": "cb77390d",
      "metadata": {
        "execution": {
          "iopub.execute_input": "2024-01-23T04:46:18.758959Z",
          "iopub.status.busy": "2024-01-23T04:46:18.758446Z",
          "iopub.status.idle": "2024-01-23T04:46:18.766579Z",
          "shell.execute_reply": "2024-01-23T04:46:18.765578Z"
        },
        "papermill": {
          "duration": 0.022518,
          "end_time": "2024-01-23T04:46:18.768734",
          "exception": false,
          "start_time": "2024-01-23T04:46:18.746216",
          "status": "completed"
        },
        "tags": [],
        "id": "cb77390d",
        "outputId": "901a594b-4209-4365-92f4-da12bb8f4add"
      },
      "outputs": [
        {
          "name": "stdout",
          "output_type": "stream",
          "text": [
            "Rp 65000 .000.000\n",
            "Rp 430 .000.000\n"
          ]
        }
      ],
      "source": [
        "#MENAPILKAN HARGA TERTINGGI DAN TERENDAH\n",
        "Rumah_Mahal = df['Harga Rumah(JT)'].max()\n",
        "Rumah_Murah = df['Harga Rumah(JT)'].min()\n",
        "q = df['Harga Rumah(JT)'].quantile([.25, .5, .75])\n",
        "\n",
        "print(\"Rp\",Rumah_Mahal,\".000.000\")\n",
        "print(\"Rp\",Rumah_Murah,\".000.000\")"
      ]
    },
    {
      "cell_type": "code",
      "execution_count": null,
      "id": "84a3f3b2",
      "metadata": {
        "execution": {
          "iopub.execute_input": "2024-01-23T04:46:18.794077Z",
          "iopub.status.busy": "2024-01-23T04:46:18.793126Z",
          "iopub.status.idle": "2024-01-23T04:46:18.831182Z",
          "shell.execute_reply": "2024-01-23T04:46:18.830006Z"
        },
        "papermill": {
          "duration": 0.053137,
          "end_time": "2024-01-23T04:46:18.833771",
          "exception": false,
          "start_time": "2024-01-23T04:46:18.780634",
          "status": "completed"
        },
        "tags": [],
        "id": "84a3f3b2",
        "outputId": "5268c248-bc6b-464b-f033-2a18c5ee1dee"
      },
      "outputs": [
        {
          "data": {
            "text/html": [
              "<div>\n",
              "<style scoped>\n",
              "    .dataframe tbody tr th:only-of-type {\n",
              "        vertical-align: middle;\n",
              "    }\n",
              "\n",
              "    .dataframe tbody tr th {\n",
              "        vertical-align: top;\n",
              "    }\n",
              "\n",
              "    .dataframe thead th {\n",
              "        text-align: right;\n",
              "    }\n",
              "</style>\n",
              "<table border=\"1\" class=\"dataframe\">\n",
              "  <thead>\n",
              "    <tr style=\"text-align: right;\">\n",
              "      <th></th>\n",
              "      <th>LB</th>\n",
              "      <th>LT</th>\n",
              "      <th>KT</th>\n",
              "      <th>KM</th>\n",
              "      <th>GRS</th>\n",
              "      <th>Harga Rumah(JT)</th>\n",
              "      <th>KELAS HARGA</th>\n",
              "    </tr>\n",
              "  </thead>\n",
              "  <tbody>\n",
              "    <tr>\n",
              "      <th>283</th>\n",
              "      <td>300</td>\n",
              "      <td>200</td>\n",
              "      <td>5</td>\n",
              "      <td>7</td>\n",
              "      <td>4</td>\n",
              "      <td>65000</td>\n",
              "      <td>Harga Tinggi</td>\n",
              "    </tr>\n",
              "    <tr>\n",
              "      <th>470</th>\n",
              "      <td>400</td>\n",
              "      <td>1075</td>\n",
              "      <td>4</td>\n",
              "      <td>3</td>\n",
              "      <td>4</td>\n",
              "      <td>55000</td>\n",
              "      <td>Harga Tinggi</td>\n",
              "    </tr>\n",
              "    <tr>\n",
              "      <th>474</th>\n",
              "      <td>1126</td>\n",
              "      <td>1224</td>\n",
              "      <td>4</td>\n",
              "      <td>4</td>\n",
              "      <td>2</td>\n",
              "      <td>55000</td>\n",
              "      <td>Harga Tinggi</td>\n",
              "    </tr>\n",
              "    <tr>\n",
              "      <th>31</th>\n",
              "      <td>900</td>\n",
              "      <td>600</td>\n",
              "      <td>7</td>\n",
              "      <td>7</td>\n",
              "      <td>1</td>\n",
              "      <td>42000</td>\n",
              "      <td>Harga Tinggi</td>\n",
              "    </tr>\n",
              "    <tr>\n",
              "      <th>751</th>\n",
              "      <td>600</td>\n",
              "      <td>624</td>\n",
              "      <td>3</td>\n",
              "      <td>3</td>\n",
              "      <td>2</td>\n",
              "      <td>42000</td>\n",
              "      <td>Harga Tinggi</td>\n",
              "    </tr>\n",
              "    <tr>\n",
              "      <th>...</th>\n",
              "      <td>...</td>\n",
              "      <td>...</td>\n",
              "      <td>...</td>\n",
              "      <td>...</td>\n",
              "      <td>...</td>\n",
              "      <td>...</td>\n",
              "      <td>...</td>\n",
              "    </tr>\n",
              "    <tr>\n",
              "      <th>204</th>\n",
              "      <td>90</td>\n",
              "      <td>50</td>\n",
              "      <td>3</td>\n",
              "      <td>1</td>\n",
              "      <td>0</td>\n",
              "      <td>690</td>\n",
              "      <td>Harga Rendah</td>\n",
              "    </tr>\n",
              "    <tr>\n",
              "      <th>921</th>\n",
              "      <td>50</td>\n",
              "      <td>55</td>\n",
              "      <td>2</td>\n",
              "      <td>1</td>\n",
              "      <td>0</td>\n",
              "      <td>650</td>\n",
              "      <td>Harga Rendah</td>\n",
              "    </tr>\n",
              "    <tr>\n",
              "      <th>1003</th>\n",
              "      <td>60</td>\n",
              "      <td>30</td>\n",
              "      <td>2</td>\n",
              "      <td>2</td>\n",
              "      <td>0</td>\n",
              "      <td>600</td>\n",
              "      <td>Harga Rendah</td>\n",
              "    </tr>\n",
              "    <tr>\n",
              "      <th>680</th>\n",
              "      <td>60</td>\n",
              "      <td>30</td>\n",
              "      <td>2</td>\n",
              "      <td>1</td>\n",
              "      <td>0</td>\n",
              "      <td>600</td>\n",
              "      <td>Harga Rendah</td>\n",
              "    </tr>\n",
              "    <tr>\n",
              "      <th>3</th>\n",
              "      <td>40</td>\n",
              "      <td>25</td>\n",
              "      <td>2</td>\n",
              "      <td>2</td>\n",
              "      <td>0</td>\n",
              "      <td>430</td>\n",
              "      <td>Harga Rendah</td>\n",
              "    </tr>\n",
              "  </tbody>\n",
              "</table>\n",
              "<p>741 rows × 7 columns</p>\n",
              "</div>"
            ],
            "text/plain": [
              "        LB    LT  KT  KM  GRS  Harga Rumah(JT)   KELAS HARGA\n",
              "283    300   200   5   7    4            65000  Harga Tinggi\n",
              "470    400  1075   4   3    4            55000  Harga Tinggi\n",
              "474   1126  1224   4   4    2            55000  Harga Tinggi\n",
              "31     900   600   7   7    1            42000  Harga Tinggi\n",
              "751    600   624   3   3    2            42000  Harga Tinggi\n",
              "...    ...   ...  ..  ..  ...              ...           ...\n",
              "204     90    50   3   1    0              690  Harga Rendah\n",
              "921     50    55   2   1    0              650  Harga Rendah\n",
              "1003    60    30   2   2    0              600  Harga Rendah\n",
              "680     60    30   2   1    0              600  Harga Rendah\n",
              "3       40    25   2   2    0              430  Harga Rendah\n",
              "\n",
              "[741 rows x 7 columns]"
            ]
          },
          "execution_count": 12,
          "metadata": {},
          "output_type": "execute_result"
        }
      ],
      "source": [
        "#FILTERING DATA URUTAN BERDASARKAN CLASSNYA\n",
        "Tingkatan_harga = df.copy()\n",
        "Tingkatan_harga['KELAS HARGA'] = Tingkatan_harga['Harga Rumah(JT)'].apply(group_data)\n",
        "filtered_data = Tingkatan_harga[Tingkatan_harga['KELAS HARGA'].isin(['Harga Tinggi', 'Harga Menengah', 'Harga Rendah'])]\n",
        "filtered_data = filtered_data.sort_values(by='Harga Rumah(JT)', ascending=False)\n",
        "filtered_data"
      ]
    },
    {
      "cell_type": "code",
      "execution_count": null,
      "id": "c1e20ffc",
      "metadata": {
        "execution": {
          "iopub.execute_input": "2024-01-23T04:46:18.859995Z",
          "iopub.status.busy": "2024-01-23T04:46:18.859570Z",
          "iopub.status.idle": "2024-01-23T04:46:19.094782Z",
          "shell.execute_reply": "2024-01-23T04:46:19.093632Z"
        },
        "papermill": {
          "duration": 0.251122,
          "end_time": "2024-01-23T04:46:19.097182",
          "exception": false,
          "start_time": "2024-01-23T04:46:18.846060",
          "status": "completed"
        },
        "tags": [],
        "id": "c1e20ffc",
        "outputId": "abec1859-f0d1-4700-dfee-4063a35326a8"
      },
      "outputs": [
        {
          "data": {
            "image/png": "[encoded data removed]",
            "text/plain": [
              "<Figure size 640x480 with 1 Axes>"
            ]
          },
          "metadata": {},
          "output_type": "display_data"
        }
      ],
      "source": [
        "#VISUALISASI DENGAN DIAGRAM PIE\n",
        "Rumah_Murah = df.loc[df['Harga Rumah(JT)'] <= q[0.25]]\n",
        "Rumah_Menengah = df.loc[(df['Harga Rumah(JT)'] > q[0.25]) & (df['Harga Rumah(JT)'] <= q[0.50])]\n",
        "Rumah_Mahal = df.loc[df['Harga Rumah(JT)'] > q[0.50]]\n",
        "labels = ['Rumah_Murah', 'Rumah_Menengah', 'Rumah_Mahal']\n",
        "sizes = [len(Rumah_Murah), len(Rumah_Menengah), len(Rumah_Mahal)]\n",
        "\n",
        "plt.pie(sizes, labels=labels, autopct='%.0f%%')\n",
        "plt.show()"
      ]
    },
    {
      "cell_type": "code",
      "execution_count": null,
      "id": "74aead90",
      "metadata": {
        "execution": {
          "iopub.execute_input": "2024-01-23T04:46:19.131478Z",
          "iopub.status.busy": "2024-01-23T04:46:19.130980Z",
          "iopub.status.idle": "2024-01-23T04:46:19.154694Z",
          "shell.execute_reply": "2024-01-23T04:46:19.152628Z"
        },
        "papermill": {
          "duration": 0.046921,
          "end_time": "2024-01-23T04:46:19.158600",
          "exception": false,
          "start_time": "2024-01-23T04:46:19.111679",
          "status": "completed"
        },
        "tags": [],
        "id": "74aead90",
        "outputId": "05a42315-5ba9-445f-b905-70f240d9ae92"
      },
      "outputs": [
        {
          "data": {
            "text/html": [
              "<div>\n",
              "<style scoped>\n",
              "    .dataframe tbody tr th:only-of-type {\n",
              "        vertical-align: middle;\n",
              "    }\n",
              "\n",
              "    .dataframe tbody tr th {\n",
              "        vertical-align: top;\n",
              "    }\n",
              "\n",
              "    .dataframe thead th {\n",
              "        text-align: right;\n",
              "    }\n",
              "</style>\n",
              "<table border=\"1\" class=\"dataframe\">\n",
              "  <thead>\n",
              "    <tr style=\"text-align: right;\">\n",
              "      <th></th>\n",
              "      <th>LB</th>\n",
              "      <th>LT</th>\n",
              "      <th>Harga Rumah(JT)</th>\n",
              "    </tr>\n",
              "  </thead>\n",
              "  <tbody>\n",
              "    <tr>\n",
              "      <th>0</th>\n",
              "      <td>220</td>\n",
              "      <td>220</td>\n",
              "      <td>3800</td>\n",
              "    </tr>\n",
              "    <tr>\n",
              "      <th>1</th>\n",
              "      <td>180</td>\n",
              "      <td>137</td>\n",
              "      <td>4600</td>\n",
              "    </tr>\n",
              "    <tr>\n",
              "      <th>2</th>\n",
              "      <td>267</td>\n",
              "      <td>250</td>\n",
              "      <td>3000</td>\n",
              "    </tr>\n",
              "    <tr>\n",
              "      <th>3</th>\n",
              "      <td>40</td>\n",
              "      <td>25</td>\n",
              "      <td>430</td>\n",
              "    </tr>\n",
              "    <tr>\n",
              "      <th>4</th>\n",
              "      <td>400</td>\n",
              "      <td>355</td>\n",
              "      <td>9000</td>\n",
              "    </tr>\n",
              "    <tr>\n",
              "      <th>...</th>\n",
              "      <td>...</td>\n",
              "      <td>...</td>\n",
              "      <td>...</td>\n",
              "    </tr>\n",
              "    <tr>\n",
              "      <th>1005</th>\n",
              "      <td>450</td>\n",
              "      <td>550</td>\n",
              "      <td>9000</td>\n",
              "    </tr>\n",
              "    <tr>\n",
              "      <th>1006</th>\n",
              "      <td>160</td>\n",
              "      <td>140</td>\n",
              "      <td>4000</td>\n",
              "    </tr>\n",
              "    <tr>\n",
              "      <th>1007</th>\n",
              "      <td>139</td>\n",
              "      <td>230</td>\n",
              "      <td>4000</td>\n",
              "    </tr>\n",
              "    <tr>\n",
              "      <th>1008</th>\n",
              "      <td>360</td>\n",
              "      <td>606</td>\n",
              "      <td>19000</td>\n",
              "    </tr>\n",
              "    <tr>\n",
              "      <th>1009</th>\n",
              "      <td>420</td>\n",
              "      <td>430</td>\n",
              "      <td>10500</td>\n",
              "    </tr>\n",
              "  </tbody>\n",
              "</table>\n",
              "<p>1010 rows × 3 columns</p>\n",
              "</div>"
            ],
            "text/plain": [
              "       LB   LT  Harga Rumah(JT)\n",
              "0     220  220             3800\n",
              "1     180  137             4600\n",
              "2     267  250             3000\n",
              "3      40   25              430\n",
              "4     400  355             9000\n",
              "...   ...  ...              ...\n",
              "1005  450  550             9000\n",
              "1006  160  140             4000\n",
              "1007  139  230             4000\n",
              "1008  360  606            19000\n",
              "1009  420  430            10500\n",
              "\n",
              "[1010 rows x 3 columns]"
            ]
          },
          "execution_count": 14,
          "metadata": {},
          "output_type": "execute_result"
        }
      ],
      "source": [
        "#CLEANING COLOM TAK TERPAKAI\n",
        "df.drop(['KM', 'KT', 'GRS'], axis=1, inplace=True)\n",
        "df"
      ]
    },
    {
      "cell_type": "code",
      "execution_count": null,
      "id": "a8872be6",
      "metadata": {
        "execution": {
          "iopub.execute_input": "2024-01-23T04:46:19.192133Z",
          "iopub.status.busy": "2024-01-23T04:46:19.190782Z",
          "iopub.status.idle": "2024-01-23T04:46:19.204669Z",
          "shell.execute_reply": "2024-01-23T04:46:19.203458Z"
        },
        "papermill": {
          "duration": 0.034599,
          "end_time": "2024-01-23T04:46:19.207009",
          "exception": false,
          "start_time": "2024-01-23T04:46:19.172410",
          "status": "completed"
        },
        "tags": [],
        "id": "a8872be6",
        "outputId": "b41705dd-9bce-463c-a858-ea7e6ea9052c"
      },
      "outputs": [
        {
          "name": "stdout",
          "output_type": "stream",
          "text": [
            "<class 'pandas.core.frame.DataFrame'>\n",
            "RangeIndex: 1010 entries, 0 to 1009\n",
            "Data columns (total 3 columns):\n",
            " #   Column           Non-Null Count  Dtype\n",
            "---  ------           --------------  -----\n",
            " 0   LB               1010 non-null   int64\n",
            " 1   LT               1010 non-null   int64\n",
            " 2   Harga Rumah(JT)  1010 non-null   int64\n",
            "dtypes: int64(3)\n",
            "memory usage: 23.8 KB\n"
          ]
        }
      ],
      "source": [
        "df.info()"
      ]
    },
    {
      "cell_type": "code",
      "execution_count": null,
      "id": "b85140f2",
      "metadata": {
        "execution": {
          "iopub.execute_input": "2024-01-23T04:46:19.243057Z",
          "iopub.status.busy": "2024-01-23T04:46:19.242490Z",
          "iopub.status.idle": "2024-01-23T04:46:19.250889Z",
          "shell.execute_reply": "2024-01-23T04:46:19.249626Z"
        },
        "papermill": {
          "duration": 0.032071,
          "end_time": "2024-01-23T04:46:19.253952",
          "exception": false,
          "start_time": "2024-01-23T04:46:19.221881",
          "status": "completed"
        },
        "tags": [],
        "id": "b85140f2"
      },
      "outputs": [],
      "source": [
        "X = df[['LB', 'LT']].values  # Konversi ke NumPy array\n",
        "y = df['Harga Rumah(JT)'].values  # Konversi ke NumPy array"
      ]
    },
    {
      "cell_type": "code",
      "execution_count": null,
      "id": "d4c5300a",
      "metadata": {
        "execution": {
          "iopub.execute_input": "2024-01-23T04:46:19.287130Z",
          "iopub.status.busy": "2024-01-23T04:46:19.286373Z",
          "iopub.status.idle": "2024-01-23T04:46:19.318416Z",
          "shell.execute_reply": "2024-01-23T04:46:19.317189Z"
        },
        "papermill": {
          "duration": 0.050305,
          "end_time": "2024-01-23T04:46:19.321117",
          "exception": false,
          "start_time": "2024-01-23T04:46:19.270812",
          "status": "completed"
        },
        "tags": [],
        "id": "d4c5300a"
      },
      "outputs": [],
      "source": [
        "#MODEL KLASIFIKASI\n",
        "X_train, X_test, y_train, y_test = train_test_split(X, y, test_size=0.2, random_state=42)\n",
        "\n",
        "model = LinearRegression()\n",
        "model.fit(X_train, y_train)\n",
        "\n",
        "y_train_pred = model.predict(X_train)\n",
        "y_test_pred = model.predict(X_test)\n",
        "\n",
        "# Evaluasi data latih\n",
        "mae_train = mean_absolute_error(y_train, y_train_pred)\n",
        "mse_train = mean_squared_error(y_train, y_train_pred)\n",
        "rmse_train = np.sqrt(mse_train)\n",
        "\n",
        "# Evaluasi data uji\n",
        "mae_test = mean_absolute_error(y_test, y_test_pred)\n",
        "mse_test = mean_squared_error(y_test, y_test_pred)\n",
        "rmse_test = np.sqrt(mse_test)\n",
        "\n"
      ]
    },
    {
      "cell_type": "code",
      "execution_count": null,
      "id": "be0cdcd9",
      "metadata": {
        "execution": {
          "iopub.execute_input": "2024-01-23T04:46:19.349715Z",
          "iopub.status.busy": "2024-01-23T04:46:19.349290Z",
          "iopub.status.idle": "2024-01-23T04:46:19.356332Z",
          "shell.execute_reply": "2024-01-23T04:46:19.355307Z"
        },
        "papermill": {
          "duration": 0.024417,
          "end_time": "2024-01-23T04:46:19.358773",
          "exception": false,
          "start_time": "2024-01-23T04:46:19.334356",
          "status": "completed"
        },
        "tags": [],
        "id": "be0cdcd9",
        "outputId": "b3ecb383-7714-4520-b46a-4c3a7d53d12f"
      },
      "outputs": [
        {
          "name": "stdout",
          "output_type": "stream",
          "text": [
            "Evaluasi pada Data Latih:\n",
            "Mean Absolute Error (MAE): 2102.04\n",
            "Mean Squared Error (MSE): 17111843.39\n",
            "Root Mean Squared Error (RMSE): 4136.65\n",
            "\n",
            "Evaluasi pada Data Uji:\n",
            "Mean Absolute Error (MAE): 2007.78\n",
            "Mean Squared Error (MSE): 11321113.38\n",
            "Root Mean Squared Error (RMSE): 3364.69\n"
          ]
        }
      ],
      "source": [
        "# Menampilkan hasil evaluasi\n",
        "print('Evaluasi pada Data Latih:')\n",
        "print(f'Mean Absolute Error (MAE): {mae_train:.2f}')\n",
        "print(f'Mean Squared Error (MSE): {mse_train:.2f}')\n",
        "print(f'Root Mean Squared Error (RMSE): {rmse_train:.2f}')\n",
        "\n",
        "print('\\nEvaluasi pada Data Uji:')\n",
        "print(f'Mean Absolute Error (MAE): {mae_test:.2f}')\n",
        "print(f'Mean Squared Error (MSE): {mse_test:.2f}')\n",
        "print(f'Root Mean Squared Error (RMSE): {rmse_test:.2f}')"
      ]
    },
    {
      "cell_type": "code",
      "execution_count": null,
      "id": "27c07ff6",
      "metadata": {
        "execution": {
          "iopub.execute_input": "2024-01-23T04:46:19.387422Z",
          "iopub.status.busy": "2024-01-23T04:46:19.386847Z",
          "iopub.status.idle": "2024-01-23T04:46:19.752664Z",
          "shell.execute_reply": "2024-01-23T04:46:19.751450Z"
        },
        "papermill": {
          "duration": 0.382872,
          "end_time": "2024-01-23T04:46:19.755031",
          "exception": false,
          "start_time": "2024-01-23T04:46:19.372159",
          "status": "completed"
        },
        "tags": [],
        "id": "27c07ff6",
        "outputId": "b1bd2aee-ebbf-4dfe-a65b-177d8b7ec525"
      },
      "outputs": [
        {
          "data": {
            "image/png": "[encoded data removed]",
            "text/plain": [
              "<Figure size 640x480 with 1 Axes>"
            ]
          },
          "metadata": {},
          "output_type": "display_data"
        }
      ],
      "source": [
        "#VISUALISASI REGRESI\n",
        "plt.scatter(y_train, y_train_pred, color='blue', label='Data Latih')\n",
        "plt.scatter(y_test, y_test_pred, color='red', label='Data Uji')\n",
        "\n",
        "\n",
        "plt.plot([min(y_train), max(y_train)], [min(y_train), max(y_train)], linestyle='--', color='gray', label='Garis Identitas')\n",
        "\n",
        "plt.xlabel('Nilai Sebenarnya')\n",
        "plt.ylabel('Nilai Prediksi')\n",
        "plt.title('Prediksi Model Regresi Linier')\n",
        "\n",
        "# Menambahkan legenda\n",
        "plt.legend()\n",
        "\n",
        "# Menampilkan plot\n",
        "plt.show()\n"
      ]
    },
    {
      "cell_type": "code",
      "execution_count": null,
      "id": "ece02e52",
      "metadata": {
        "execution": {
          "iopub.execute_input": "2024-01-23T04:46:19.792289Z",
          "iopub.status.busy": "2024-01-23T04:46:19.791604Z",
          "iopub.status.idle": "2024-01-23T04:46:19.798036Z",
          "shell.execute_reply": "2024-01-23T04:46:19.796521Z"
        },
        "papermill": {
          "duration": 0.027759,
          "end_time": "2024-01-23T04:46:19.800269",
          "exception": false,
          "start_time": "2024-01-23T04:46:19.772510",
          "status": "completed"
        },
        "tags": [],
        "id": "ece02e52"
      },
      "outputs": [],
      "source": [
        "data_baru = np.array([[200, 400]])\n",
        "harga_prediksi = model.predict(data_baru)\n",
        "harga_prediksi_rupiah = harga_prediksi[0] * 1000000  # Mengonversi ulang"
      ]
    },
    {
      "cell_type": "code",
      "execution_count": null,
      "id": "8b881dde",
      "metadata": {
        "execution": {
          "iopub.execute_input": "2024-01-23T04:46:19.831378Z",
          "iopub.status.busy": "2024-01-23T04:46:19.830595Z",
          "iopub.status.idle": "2024-01-23T04:46:19.838486Z",
          "shell.execute_reply": "2024-01-23T04:46:19.836836Z"
        },
        "papermill": {
          "duration": 0.027159,
          "end_time": "2024-01-23T04:46:19.841690",
          "exception": false,
          "start_time": "2024-01-23T04:46:19.814531",
          "status": "completed"
        },
        "tags": [],
        "id": "8b881dde"
      },
      "outputs": [],
      "source": [
        "#MERUBAH CODE MENJADI FORMAT RUPIAH\n",
        "def formatrupiah(uang):\n",
        "    y = str(uang)\n",
        "    if len(y) <= 3:\n",
        "        return 'Rp ' + y\n",
        "    else:\n",
        "        p = y[-3:]\n",
        "        q = y[:-3]\n",
        "        return formatrupiah(q) + '.' + p"
      ]
    },
    {
      "cell_type": "code",
      "execution_count": null,
      "id": "bdbc832c",
      "metadata": {
        "execution": {
          "iopub.execute_input": "2024-01-23T04:46:19.871928Z",
          "iopub.status.busy": "2024-01-23T04:46:19.871211Z",
          "iopub.status.idle": "2024-01-23T04:46:19.876747Z",
          "shell.execute_reply": "2024-01-23T04:46:19.875571Z"
        },
        "papermill": {
          "duration": 0.022933,
          "end_time": "2024-01-23T04:46:19.878893",
          "exception": false,
          "start_time": "2024-01-23T04:46:19.855960",
          "status": "completed"
        },
        "tags": [],
        "id": "bdbc832c",
        "outputId": "9e9bfb49-9095-4b9f-e0f7-44e577d8b145"
      },
      "outputs": [
        {
          "name": "stdout",
          "output_type": "stream",
          "text": [
            "Prediksi harga rumah impianmu di Jakarta Selatan adalah Rp 10.266.231.044\n"
          ]
        }
      ],
      "source": [
        "hargarumahprediksi = int(harga_prediksi_rupiah)\n",
        "print(\"Prediksi harga rumah impianmu di Jakarta Selatan adalah\", formatrupiah(hargarumahprediksi))"
      ]
    }
  ],
  "metadata": {
    "kaggle": {
      "accelerator": "none",
      "dataSources": [
        {
          "datasetId": 868967,
          "sourceId": 1480646,
          "sourceType": "datasetVersion"
        }
      ],
      "dockerImageVersionId": 30635,
      "isGpuEnabled": false,
      "isInternetEnabled": false,
      "language": "python",
      "sourceType": "notebook"
    },
    "kernelspec": {
      "display_name": "Python 3",
      "language": "python",
      "name": "python3"
    },
    "language_info": {
      "codemirror_mode": {
        "name": "ipython",
        "version": 3
      },
      "file_extension": ".py",
      "mimetype": "text/x-python",
      "name": "python",
      "nbconvert_exporter": "python",
      "pygments_lexer": "ipython3",
      "version": "3.10.12"
    },
    "papermill": {
      "default_parameters": {},
      "duration": 10.765857,
      "end_time": "2024-01-23T04:46:20.512707",
      "environment_variables": {},
      "exception": null,
      "input_path": "__notebook__.ipynb",
      "output_path": "__notebook__.ipynb",
      "parameters": {},
      "start_time": "2024-01-23T04:46:09.746850",
      "version": "2.4.0"
    },
    "colab": {
      "provenance": []
    }
  },
  "nbformat": 4,
  "nbformat_minor": 5
}